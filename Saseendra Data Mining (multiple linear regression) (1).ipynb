{
 "cells": [
  {
   "cell_type": "code",
   "execution_count": 1,
   "id": "9ad161d6",
   "metadata": {},
   "outputs": [
    {
     "name": "stdout",
     "output_type": "stream",
     "text": [
      "no display found. Using non-interactive Agg backend\n"
     ]
    }
   ],
   "source": [
    "from pathlib import Path\n",
    "\n",
    "import pandas as pd\n",
    "import numpy as np\n",
    "\n",
    "from sklearn.model_selection import train_test_split\n",
    "from sklearn.linear_model import LinearRegression\n",
    "from sklearn.metrics import r2_score\n",
    "\n",
    "import statsmodels.formula.api as sm\n",
    "\n",
    "from dmba import regressionSummary, exhaustive_search\n",
    "from dmba import backward_elimination, forward_selection, stepwise_selection\n",
    "from dmba import adjusted_r2_score, AIC_score, BIC_score\n",
    "\n",
    "import matplotlib.pylab as plt\n",
    "\n"
   ]
  },
  {
   "cell_type": "code",
   "execution_count": 2,
   "id": "650d3298",
   "metadata": {},
   "outputs": [
    {
     "data": {
      "text/plain": [
       "(506, 14)"
      ]
     },
     "execution_count": 2,
     "metadata": {},
     "output_type": "execute_result"
    }
   ],
   "source": [
    "#1a.  \n",
    "boston_df = pd.read_csv('BostonHousing.csv')\n",
    "\n",
    " \n",
    "boston_df.shape"
   ]
  },
  {
   "cell_type": "code",
   "execution_count": 3,
   "id": "0b349429",
   "metadata": {
    "scrolled": true
   },
   "outputs": [
    {
     "data": {
      "text/html": [
       "<div>\n",
       "<style scoped>\n",
       "    .dataframe tbody tr th:only-of-type {\n",
       "        vertical-align: middle;\n",
       "    }\n",
       "\n",
       "    .dataframe tbody tr th {\n",
       "        vertical-align: top;\n",
       "    }\n",
       "\n",
       "    .dataframe thead th {\n",
       "        text-align: right;\n",
       "    }\n",
       "</style>\n",
       "<table border=\"1\" class=\"dataframe\">\n",
       "  <thead>\n",
       "    <tr style=\"text-align: right;\">\n",
       "      <th></th>\n",
       "      <th>CRIME</th>\n",
       "      <th>ZONE</th>\n",
       "      <th>INDUST</th>\n",
       "      <th>CHAR RIV</th>\n",
       "      <th>NIT OXIDE</th>\n",
       "      <th>ROOMS</th>\n",
       "      <th>AGE</th>\n",
       "      <th>DISTANCE</th>\n",
       "      <th>RADIAL</th>\n",
       "      <th>TAX</th>\n",
       "      <th>ST RATIO</th>\n",
       "      <th>LOW STAT</th>\n",
       "      <th>MVALUE</th>\n",
       "      <th>C MVALUE</th>\n",
       "    </tr>\n",
       "  </thead>\n",
       "  <tbody>\n",
       "    <tr>\n",
       "      <th>0</th>\n",
       "      <td>0.00632</td>\n",
       "      <td>18.0</td>\n",
       "      <td>2.31</td>\n",
       "      <td>N</td>\n",
       "      <td>0.538</td>\n",
       "      <td>6.575</td>\n",
       "      <td>65.2</td>\n",
       "      <td>4.0900</td>\n",
       "      <td>1</td>\n",
       "      <td>296</td>\n",
       "      <td>15.3</td>\n",
       "      <td>4.98</td>\n",
       "      <td>24.0</td>\n",
       "      <td>No</td>\n",
       "    </tr>\n",
       "    <tr>\n",
       "      <th>1</th>\n",
       "      <td>0.02731</td>\n",
       "      <td>0.0</td>\n",
       "      <td>7.07</td>\n",
       "      <td>N</td>\n",
       "      <td>0.469</td>\n",
       "      <td>6.421</td>\n",
       "      <td>78.9</td>\n",
       "      <td>4.9671</td>\n",
       "      <td>2</td>\n",
       "      <td>242</td>\n",
       "      <td>17.8</td>\n",
       "      <td>9.14</td>\n",
       "      <td>21.6</td>\n",
       "      <td>No</td>\n",
       "    </tr>\n",
       "    <tr>\n",
       "      <th>2</th>\n",
       "      <td>0.02729</td>\n",
       "      <td>0.0</td>\n",
       "      <td>7.07</td>\n",
       "      <td>N</td>\n",
       "      <td>0.469</td>\n",
       "      <td>7.185</td>\n",
       "      <td>61.1</td>\n",
       "      <td>4.9671</td>\n",
       "      <td>2</td>\n",
       "      <td>242</td>\n",
       "      <td>17.8</td>\n",
       "      <td>4.03</td>\n",
       "      <td>34.7</td>\n",
       "      <td>Yes</td>\n",
       "    </tr>\n",
       "    <tr>\n",
       "      <th>3</th>\n",
       "      <td>0.03237</td>\n",
       "      <td>0.0</td>\n",
       "      <td>2.18</td>\n",
       "      <td>N</td>\n",
       "      <td>0.458</td>\n",
       "      <td>6.998</td>\n",
       "      <td>45.8</td>\n",
       "      <td>6.0622</td>\n",
       "      <td>3</td>\n",
       "      <td>222</td>\n",
       "      <td>18.7</td>\n",
       "      <td>2.94</td>\n",
       "      <td>33.4</td>\n",
       "      <td>Yes</td>\n",
       "    </tr>\n",
       "    <tr>\n",
       "      <th>4</th>\n",
       "      <td>0.06905</td>\n",
       "      <td>0.0</td>\n",
       "      <td>2.18</td>\n",
       "      <td>N</td>\n",
       "      <td>0.458</td>\n",
       "      <td>7.147</td>\n",
       "      <td>54.2</td>\n",
       "      <td>6.0622</td>\n",
       "      <td>3</td>\n",
       "      <td>222</td>\n",
       "      <td>18.7</td>\n",
       "      <td>5.33</td>\n",
       "      <td>36.2</td>\n",
       "      <td>Yes</td>\n",
       "    </tr>\n",
       "  </tbody>\n",
       "</table>\n",
       "</div>"
      ],
      "text/plain": [
       "     CRIME  ZONE  INDUST CHAR RIV  NIT OXIDE  ROOMS   AGE  DISTANCE  RADIAL  \\\n",
       "0  0.00632  18.0    2.31        N      0.538  6.575  65.2    4.0900       1   \n",
       "1  0.02731   0.0    7.07        N      0.469  6.421  78.9    4.9671       2   \n",
       "2  0.02729   0.0    7.07        N      0.469  7.185  61.1    4.9671       2   \n",
       "3  0.03237   0.0    2.18        N      0.458  6.998  45.8    6.0622       3   \n",
       "4  0.06905   0.0    2.18        N      0.458  7.147  54.2    6.0622       3   \n",
       "\n",
       "   TAX  ST RATIO  LOW STAT  MVALUE C MVALUE  \n",
       "0  296      15.3      4.98    24.0       No  \n",
       "1  242      17.8      9.14    21.6       No  \n",
       "2  242      17.8      4.03    34.7      Yes  \n",
       "3  222      18.7      2.94    33.4      Yes  \n",
       "4  222      18.7      5.33    36.2      Yes  "
      ]
     },
     "execution_count": 3,
     "metadata": {},
     "output_type": "execute_result"
    }
   ],
   "source": [
    "boston_df.head()"
   ]
  },
  {
   "cell_type": "code",
   "execution_count": 4,
   "id": "a2519b62",
   "metadata": {},
   "outputs": [
    {
     "data": {
      "text/plain": [
       "Index(['CRIME', 'ZONE', 'INDUST', 'CHAR RIV', 'NIT OXIDE', 'ROOMS', 'AGE',\n",
       "       'DISTANCE', 'RADIAL', 'TAX', 'ST RATIO', 'LOW STAT', 'MVALUE',\n",
       "       'C MVALUE'],\n",
       "      dtype='object')"
      ]
     },
     "execution_count": 4,
     "metadata": {},
     "output_type": "execute_result"
    }
   ],
   "source": [
    "boston_df.columns"
   ]
  },
  {
   "cell_type": "code",
   "execution_count": 5,
   "id": "335a0a79",
   "metadata": {},
   "outputs": [
    {
     "data": {
      "text/plain": [
       "Index(['CRIME', 'ZONE', 'INDUST', 'CHAR_RIV', 'NIT_OXIDE', 'ROOMS', 'AGE',\n",
       "       'DISTANCE', 'RADIAL', 'TAX', 'ST_RATIO', 'LOW_STAT', 'MVALUE',\n",
       "       'C_MVALUE'],\n",
       "      dtype='object')"
      ]
     },
     "execution_count": 5,
     "metadata": {},
     "output_type": "execute_result"
    }
   ],
   "source": [
    "#1b.\n",
    "boston_df.columns = boston_df.columns.str.replace(' ', '_')\n",
    "boston_df.columns"
   ]
  },
  {
   "cell_type": "code",
   "execution_count": 6,
   "id": "4e8e4dc8",
   "metadata": {},
   "outputs": [
    {
     "data": {
      "text/plain": [
       "CRIME        float64\n",
       "ZONE         float64\n",
       "INDUST       float64\n",
       "CHAR_RIV      object\n",
       "NIT_OXIDE    float64\n",
       "ROOMS        float64\n",
       "AGE          float64\n",
       "DISTANCE     float64\n",
       "RADIAL         int64\n",
       "TAX            int64\n",
       "ST_RATIO     float64\n",
       "LOW_STAT     float64\n",
       "MVALUE       float64\n",
       "C_MVALUE      object\n",
       "dtype: object"
      ]
     },
     "execution_count": 6,
     "metadata": {},
     "output_type": "execute_result"
    }
   ],
   "source": [
    "#1c.\n",
    "boston_df.dtypes"
   ]
  },
  {
   "cell_type": "code",
   "execution_count": 7,
   "id": "d7e7f41c",
   "metadata": {},
   "outputs": [
    {
     "name": "stdout",
     "output_type": "stream",
     "text": [
      " \n",
      "Category levels and changed variable type:\n",
      "Index(['N', 'Y'], dtype='object')\n",
      "category\n"
     ]
    }
   ],
   "source": [
    "#1c.\n",
    "boston_df.CHAR_RIV = boston_df.CHAR_RIV.astype('category')\n",
    "\n",
    "\n",
    "print(' ')\n",
    "print('Category levels and changed variable type:')\n",
    "print(boston_df.CHAR_RIV.cat.categories) \n",
    "print(boston_df.CHAR_RIV.dtype)"
   ]
  },
  {
   "cell_type": "code",
   "execution_count": 14,
   "id": "1616f5bb",
   "metadata": {},
   "outputs": [
    {
     "name": "stdout",
     "output_type": "stream",
     "text": [
      " \n",
      "Category levels and changed variable type:\n",
      "Index(['No', 'Yes'], dtype='object')\n",
      "category\n"
     ]
    }
   ],
   "source": [
    "#1c.\n",
    "boston_df.C_MVALUE = boston_df.C_MVALUE.astype('category')\n",
    "\n",
    "a\n",
    "print(' ')\n",
    "print('Category levels and changed variable type:')a\n",
    "print(boston_df.C_MVALUE.cat.categories) \n",
    "print(boston_df.C_MVALUE.dtype)"
   ]
  },
  {
   "cell_type": "code",
   "execution_count": 8,
   "id": "6200a5ab",
   "metadata": {},
   "outputs": [
    {
     "data": {
      "text/plain": [
       "Index(['CRIME', 'ZONE', 'INDUST', 'NIT_OXIDE', 'ROOMS', 'AGE', 'DISTANCE',\n",
       "       'RADIAL', 'TAX', 'ST_RATIO', 'LOW_STAT', 'MVALUE', 'CHAR_RIV_Y',\n",
       "       'C_MVALUE_Yes'],\n",
       "      dtype='object')"
      ]
     },
     "execution_count": 8,
     "metadata": {},
     "output_type": "execute_result"
    }
   ],
   "source": [
    "#1c.\n",
    "boston_df = pd.get_dummies(boston_df, prefix_sep='_', \n",
    "                            drop_first=True)\n",
    "boston_df.columns"
   ]
  },
  {
   "cell_type": "code",
   "execution_count": 9,
   "id": "9821fe09",
   "metadata": {},
   "outputs": [
    {
     "data": {
      "text/html": [
       "<div>\n",
       "<style scoped>\n",
       "    .dataframe tbody tr th:only-of-type {\n",
       "        vertical-align: middle;\n",
       "    }\n",
       "\n",
       "    .dataframe tbody tr th {\n",
       "        vertical-align: top;\n",
       "    }\n",
       "\n",
       "    .dataframe thead th {\n",
       "        text-align: right;\n",
       "    }\n",
       "</style>\n",
       "<table border=\"1\" class=\"dataframe\">\n",
       "  <thead>\n",
       "    <tr style=\"text-align: right;\">\n",
       "      <th></th>\n",
       "      <th>CRIME</th>\n",
       "      <th>ZONE</th>\n",
       "      <th>INDUST</th>\n",
       "      <th>NIT_OXIDE</th>\n",
       "      <th>ROOMS</th>\n",
       "      <th>AGE</th>\n",
       "      <th>DISTANCE</th>\n",
       "      <th>RADIAL</th>\n",
       "      <th>TAX</th>\n",
       "      <th>ST_RATIO</th>\n",
       "      <th>LOW_STAT</th>\n",
       "      <th>MVALUE</th>\n",
       "      <th>CHAR_RIV_Y</th>\n",
       "      <th>C_MVALUE_Yes</th>\n",
       "    </tr>\n",
       "  </thead>\n",
       "  <tbody>\n",
       "    <tr>\n",
       "      <th>count</th>\n",
       "      <td>506.000000</td>\n",
       "      <td>506.000000</td>\n",
       "      <td>506.000000</td>\n",
       "      <td>506.000000</td>\n",
       "      <td>506.000000</td>\n",
       "      <td>506.000000</td>\n",
       "      <td>506.000000</td>\n",
       "      <td>506.000000</td>\n",
       "      <td>506.000000</td>\n",
       "      <td>506.000000</td>\n",
       "      <td>506.000000</td>\n",
       "      <td>506.000000</td>\n",
       "      <td>506.000000</td>\n",
       "      <td>506.000000</td>\n",
       "    </tr>\n",
       "    <tr>\n",
       "      <th>mean</th>\n",
       "      <td>3.613524</td>\n",
       "      <td>11.363636</td>\n",
       "      <td>11.136779</td>\n",
       "      <td>0.554695</td>\n",
       "      <td>6.284634</td>\n",
       "      <td>68.574901</td>\n",
       "      <td>3.795043</td>\n",
       "      <td>9.549407</td>\n",
       "      <td>408.237154</td>\n",
       "      <td>18.455534</td>\n",
       "      <td>12.653063</td>\n",
       "      <td>22.532806</td>\n",
       "      <td>0.069170</td>\n",
       "      <td>0.166008</td>\n",
       "    </tr>\n",
       "    <tr>\n",
       "      <th>std</th>\n",
       "      <td>8.601545</td>\n",
       "      <td>23.322453</td>\n",
       "      <td>6.860353</td>\n",
       "      <td>0.115878</td>\n",
       "      <td>0.702617</td>\n",
       "      <td>28.148861</td>\n",
       "      <td>2.105710</td>\n",
       "      <td>8.707259</td>\n",
       "      <td>168.537116</td>\n",
       "      <td>2.164946</td>\n",
       "      <td>7.141062</td>\n",
       "      <td>9.197104</td>\n",
       "      <td>0.253994</td>\n",
       "      <td>0.372456</td>\n",
       "    </tr>\n",
       "    <tr>\n",
       "      <th>min</th>\n",
       "      <td>0.006320</td>\n",
       "      <td>0.000000</td>\n",
       "      <td>0.460000</td>\n",
       "      <td>0.385000</td>\n",
       "      <td>3.561000</td>\n",
       "      <td>2.900000</td>\n",
       "      <td>1.129600</td>\n",
       "      <td>1.000000</td>\n",
       "      <td>187.000000</td>\n",
       "      <td>12.600000</td>\n",
       "      <td>1.730000</td>\n",
       "      <td>5.000000</td>\n",
       "      <td>0.000000</td>\n",
       "      <td>0.000000</td>\n",
       "    </tr>\n",
       "    <tr>\n",
       "      <th>25%</th>\n",
       "      <td>0.082045</td>\n",
       "      <td>0.000000</td>\n",
       "      <td>5.190000</td>\n",
       "      <td>0.449000</td>\n",
       "      <td>5.885500</td>\n",
       "      <td>45.025000</td>\n",
       "      <td>2.100175</td>\n",
       "      <td>4.000000</td>\n",
       "      <td>279.000000</td>\n",
       "      <td>17.400000</td>\n",
       "      <td>6.950000</td>\n",
       "      <td>17.025000</td>\n",
       "      <td>0.000000</td>\n",
       "      <td>0.000000</td>\n",
       "    </tr>\n",
       "    <tr>\n",
       "      <th>50%</th>\n",
       "      <td>0.256510</td>\n",
       "      <td>0.000000</td>\n",
       "      <td>9.690000</td>\n",
       "      <td>0.538000</td>\n",
       "      <td>6.208500</td>\n",
       "      <td>77.500000</td>\n",
       "      <td>3.207450</td>\n",
       "      <td>5.000000</td>\n",
       "      <td>330.000000</td>\n",
       "      <td>19.050000</td>\n",
       "      <td>11.360000</td>\n",
       "      <td>21.200000</td>\n",
       "      <td>0.000000</td>\n",
       "      <td>0.000000</td>\n",
       "    </tr>\n",
       "    <tr>\n",
       "      <th>75%</th>\n",
       "      <td>3.677083</td>\n",
       "      <td>12.500000</td>\n",
       "      <td>18.100000</td>\n",
       "      <td>0.624000</td>\n",
       "      <td>6.623500</td>\n",
       "      <td>94.075000</td>\n",
       "      <td>5.188425</td>\n",
       "      <td>24.000000</td>\n",
       "      <td>666.000000</td>\n",
       "      <td>20.200000</td>\n",
       "      <td>16.955000</td>\n",
       "      <td>25.000000</td>\n",
       "      <td>0.000000</td>\n",
       "      <td>0.000000</td>\n",
       "    </tr>\n",
       "    <tr>\n",
       "      <th>max</th>\n",
       "      <td>88.976200</td>\n",
       "      <td>100.000000</td>\n",
       "      <td>27.740000</td>\n",
       "      <td>0.871000</td>\n",
       "      <td>8.780000</td>\n",
       "      <td>100.000000</td>\n",
       "      <td>12.126500</td>\n",
       "      <td>24.000000</td>\n",
       "      <td>711.000000</td>\n",
       "      <td>22.000000</td>\n",
       "      <td>37.970000</td>\n",
       "      <td>50.000000</td>\n",
       "      <td>1.000000</td>\n",
       "      <td>1.000000</td>\n",
       "    </tr>\n",
       "  </tbody>\n",
       "</table>\n",
       "</div>"
      ],
      "text/plain": [
       "            CRIME        ZONE      INDUST   NIT_OXIDE       ROOMS         AGE  \\\n",
       "count  506.000000  506.000000  506.000000  506.000000  506.000000  506.000000   \n",
       "mean     3.613524   11.363636   11.136779    0.554695    6.284634   68.574901   \n",
       "std      8.601545   23.322453    6.860353    0.115878    0.702617   28.148861   \n",
       "min      0.006320    0.000000    0.460000    0.385000    3.561000    2.900000   \n",
       "25%      0.082045    0.000000    5.190000    0.449000    5.885500   45.025000   \n",
       "50%      0.256510    0.000000    9.690000    0.538000    6.208500   77.500000   \n",
       "75%      3.677083   12.500000   18.100000    0.624000    6.623500   94.075000   \n",
       "max     88.976200  100.000000   27.740000    0.871000    8.780000  100.000000   \n",
       "\n",
       "         DISTANCE      RADIAL         TAX    ST_RATIO    LOW_STAT      MVALUE  \\\n",
       "count  506.000000  506.000000  506.000000  506.000000  506.000000  506.000000   \n",
       "mean     3.795043    9.549407  408.237154   18.455534   12.653063   22.532806   \n",
       "std      2.105710    8.707259  168.537116    2.164946    7.141062    9.197104   \n",
       "min      1.129600    1.000000  187.000000   12.600000    1.730000    5.000000   \n",
       "25%      2.100175    4.000000  279.000000   17.400000    6.950000   17.025000   \n",
       "50%      3.207450    5.000000  330.000000   19.050000   11.360000   21.200000   \n",
       "75%      5.188425   24.000000  666.000000   20.200000   16.955000   25.000000   \n",
       "max     12.126500   24.000000  711.000000   22.000000   37.970000   50.000000   \n",
       "\n",
       "       CHAR_RIV_Y  C_MVALUE_Yes  \n",
       "count  506.000000    506.000000  \n",
       "mean     0.069170      0.166008  \n",
       "std      0.253994      0.372456  \n",
       "min      0.000000      0.000000  \n",
       "25%      0.000000      0.000000  \n",
       "50%      0.000000      0.000000  \n",
       "75%      0.000000      0.000000  \n",
       "max      1.000000      1.000000  "
      ]
     },
     "execution_count": 9,
     "metadata": {},
     "output_type": "execute_result"
    }
   ],
   "source": [
    "#1d.\n",
    "boston_df.describe()"
   ]
  },
  {
   "cell_type": "code",
   "execution_count": 10,
   "id": "6a9a651d",
   "metadata": {},
   "outputs": [
    {
     "data": {
      "text/plain": [
       "CRIME           0\n",
       "ZONE            0\n",
       "INDUST          0\n",
       "NIT_OXIDE       0\n",
       "ROOMS           0\n",
       "AGE             0\n",
       "DISTANCE        0\n",
       "RADIAL          0\n",
       "TAX             0\n",
       "ST_RATIO        0\n",
       "LOW_STAT        0\n",
       "MVALUE          0\n",
       "CHAR_RIV_Y      0\n",
       "C_MVALUE_Yes    0\n",
       "dtype: int64"
      ]
     },
     "execution_count": 10,
     "metadata": {},
     "output_type": "execute_result"
    }
   ],
   "source": [
    "#1d. \n",
    "boston_df.isnull().sum()"
   ]
  },
  {
   "cell_type": "code",
   "execution_count": 11,
   "id": "b9154fcb",
   "metadata": {},
   "outputs": [
    {
     "name": "stdout",
     "output_type": "stream",
     "text": [
      "Regression Model for boston housing Training Set\n",
      "\n",
      "Intercept:  46.41\n",
      "       Predictor  Coefficient\n",
      "0          CRIME        -0.13\n",
      "1           ZONE        -0.01\n",
      "2         INDUST         0.11\n",
      "3      NIT_OXIDE       -17.12\n",
      "4          ROOMS         0.64\n",
      "5            AGE        -0.01\n",
      "6       DISTANCE        -0.70\n",
      "7         RADIAL         0.19\n",
      "8            TAX        -0.01\n",
      "9       ST_RATIO        -0.60\n",
      "10      LOW_STAT        -0.47\n",
      "11    CHAR_RIV_Y         2.17\n",
      "12  C_MVALUE_Yes        11.66\n"
     ]
    }
   ],
   "source": [
    "#2a. Identify predictors and outcome of the regression model.\n",
    "predictors = ['CRIME', 'ZONE', 'INDUST', 'NIT_OXIDE', 'ROOMS', 'AGE', 'DISTANCE',\n",
    "       'RADIAL', 'TAX', 'ST_RATIO', 'LOW_STAT','CHAR_RIV_Y','C_MVALUE_Yes']\n",
    "outcome = 'MVALUE'\n",
    "\n",
    "\n",
    "X = boston_df[predictors]\n",
    "y = boston_df[outcome]\n",
    "train_X, valid_X, train_y, valid_y = train_test_split(X, y, test_size=0.2, random_state=1)\n",
    "\n",
    "\n",
    "boston_lm = LinearRegression()\n",
    "boston_lm.fit(train_X, train_y)\n",
    "\n",
    "\n",
    "print('Regression Model for boston housing Training Set')\n",
    "print()\n",
    "print('Intercept: ', np.round(boston_lm.intercept_, 2)) \n",
    "print(pd.DataFrame({'Predictor': X.columns, 'Coefficient': np.round(boston_lm.coef_, 2)}))\n"
   ]
  },
  {
   "cell_type": "code",
   "execution_count": 12,
   "id": "94364289",
   "metadata": {},
   "outputs": [
    {
     "name": "stdout",
     "output_type": "stream",
     "text": [
      "Actual, Prediction, and Residual Prices for Validation Set\n",
      "     Actual  Predicted  Residual\n",
      "307    28.2      25.24      2.96\n",
      "343    23.9      22.44      1.46\n",
      "47     16.6      18.11     -1.51\n",
      "67     22.0      22.19     -0.19\n",
      "362    20.8      19.07      1.73\n",
      "132    23.0      19.54      3.46\n",
      "292    27.9      25.10      2.80\n",
      "31     14.5      18.10     -3.60\n",
      "218    21.5      22.55     -1.05\n",
      "90     22.6      23.58     -0.98\n"
     ]
    }
   ],
   "source": [
    "#2b.Use predict() to score (make) predictions for validation set.\n",
    "boston_lm_pred = boston_lm.predict(valid_X)\n",
    "\n",
    "print('Actual, Prediction, and Residual Prices for Validation Set')\n",
    "result = round(pd.DataFrame({'Actual': valid_y,'Predicted': boston_lm_pred, \n",
    "                       'Residual': valid_y - boston_lm_pred}), 2)\n",
    "print(result.head(10))"
   ]
  },
  {
   "cell_type": "code",
   "execution_count": 13,
   "id": "1a4e1f01",
   "metadata": {},
   "outputs": [
    {
     "name": "stdout",
     "output_type": "stream",
     "text": [
      "Prediction Performance Measures for Training Set\n",
      "r2 :  0.836\n",
      "Adjusted r2 :  0.831\n",
      "AIC :  2220.32\n",
      "BIC :  2280.34\n",
      "\n",
      "Prediction Performance Measures for Validation Set\n",
      "r2 :  0.851\n",
      "adjusted r2 :  0.829\n",
      "AIC :  593.83\n",
      "BIC :  633.2\n"
     ]
    }
   ],
   "source": [
    "#2b. \n",
    "pred_y = boston_lm.predict(train_X)\n",
    "\n",
    "r2 = round(r2_score(train_y, pred_y),3)\n",
    "adj_r2 = round(adjusted_r2_score(train_y, pred_y, boston_lm),3)\n",
    "aic = round(AIC_score(train_y, pred_y, boston_lm),2)\n",
    "bic = round(BIC_score(train_y, pred_y, boston_lm),2)\n",
    "\n",
    "print('Prediction Performance Measures for Training Set')\n",
    "print('r2 : ', r2)\n",
    "print('Adjusted r2 : ', adj_r2)\n",
    "print('AIC : ', aic)\n",
    "print('BIC : ', bic)\n",
    "print() \n",
    "\n",
    "r2 = round(r2_score(valid_y, boston_lm_pred),3)\n",
    "adj_r2 = round(adjusted_r2_score(valid_y, boston_lm_pred, boston_lm),3)\n",
    "aic = round(AIC_score(valid_y, boston_lm_pred, boston_lm),2)\n",
    "bic = round(BIC_score(valid_y, boston_lm_pred, boston_lm),2)\n",
    "\n",
    "print('Prediction Performance Measures for Validation Set')\n",
    "print('r2 : ', r2)\n",
    "print('adjusted r2 : ', adj_r2)\n",
    "print('AIC : ', aic)\n",
    "print('BIC : ', bic)"
   ]
  },
  {
   "cell_type": "code",
   "execution_count": 14,
   "id": "10091555",
   "metadata": {},
   "outputs": [
    {
     "name": "stdout",
     "output_type": "stream",
     "text": [
      "Accuracy Measures for Training Set - All Variables\n",
      "\n",
      "Regression statistics\n",
      "\n",
      "                      Mean Error (ME) : 0.0000\n",
      "       Root Mean Squared Error (RMSE) : 3.6395\n",
      "            Mean Absolute Error (MAE) : 2.6454\n",
      "          Mean Percentage Error (MPE) : -2.6958\n",
      "Mean Absolute Percentage Error (MAPE) : 12.9926\n",
      "\n",
      "Accuracy Measures for Validation Set - All Variables\n",
      "\n",
      "Regression statistics\n",
      "\n",
      "                      Mean Error (ME) : 0.2023\n",
      "       Root Mean Squared Error (RMSE) : 3.8378\n",
      "            Mean Absolute Error (MAE) : 2.8230\n",
      "          Mean Percentage Error (MPE) : -4.5533\n",
      "Mean Absolute Percentage Error (MAPE) : 14.6529\n"
     ]
    }
   ],
   "source": [
    "#2c. Display common accuracy measures for training set.\n",
    "print('Accuracy Measures for Training Set - All Variables')\n",
    "regressionSummary(train_y, pred_y)\n",
    "print()\n",
    "\n",
    "# Display common accuracy measures for validation set.\n",
    "print('Accuracy Measures for Validation Set - All Variables')\n",
    "regressionSummary(valid_y, boston_lm_pred)"
   ]
  },
  {
   "cell_type": "code",
   "execution_count": 15,
   "id": "d44e11fb",
   "metadata": {},
   "outputs": [
    {
     "name": "stdout",
     "output_type": "stream",
     "text": [
      "Variables: CRIME, ZONE, INDUST, NIT_OXIDE, ROOMS, AGE, DISTANCE, RADIAL, TAX, ST_RATIO, LOW_STAT, CHAR_RIV_Y, C_MVALUE_Yes\n",
      "Start: score=2220.32\n",
      "Step: score=2218.56, remove AGE\n",
      "Step: score=2216.85, remove ZONE\n",
      "Step: score=2216.85, remove None\n",
      "\n",
      "Best Variables from Backward Elimination Algorithm\n",
      "['CRIME', 'INDUST', 'NIT_OXIDE', 'ROOMS', 'DISTANCE', 'RADIAL', 'TAX', 'ST_RATIO', 'LOW_STAT', 'CHAR_RIV_Y', 'C_MVALUE_Yes']\n"
     ]
    }
   ],
   "source": [
    "#3a. \n",
    "def train_model(variables):\n",
    "    model = LinearRegression()\n",
    "    model.fit(train_X[variables], train_y)\n",
    "    return model\n",
    "\n",
    "def score_model(model, variables):\n",
    "    return AIC_score(train_y, model.predict(train_X[variables]), model)\n",
    "\n",
    "best_model_be, best_variables_be = backward_elimination(train_X.columns, \n",
    "                        train_model, score_model, verbose=True)\n",
    "\n",
    "print()\n",
    "print('Best Variables from Backward Elimination Algorithm')\n",
    "print(best_variables_be)"
   ]
  },
  {
   "cell_type": "code",
   "execution_count": 16,
   "id": "22cf796f",
   "metadata": {},
   "outputs": [
    {
     "name": "stdout",
     "output_type": "stream",
     "text": [
      "Regression Model for Training Set Using Backward Elimination\n",
      "\n",
      "Intercept  46.55\n",
      "       Predictor  Coefficient\n",
      "0          CRIME        -0.13\n",
      "1         INDUST         0.11\n",
      "2      NIT_OXIDE       -17.47\n",
      "3          ROOMS         0.61\n",
      "4       DISTANCE        -0.73\n",
      "5         RADIAL         0.20\n",
      "6            TAX        -0.01\n",
      "7       ST_RATIO        -0.59\n",
      "8       LOW_STAT        -0.48\n",
      "9     CHAR_RIV_Y         2.14\n",
      "10  C_MVALUE_Yes        11.52\n"
     ]
    }
   ],
   "source": [
    "#3a.\n",
    "predictors_be = ['CRIME', 'INDUST', 'NIT_OXIDE', 'ROOMS', 'DISTANCE', 'RADIAL', 'TAX', 'ST_RATIO', 'LOW_STAT', 'CHAR_RIV_Y', 'C_MVALUE_Yes']\n",
    "outcome = 'MVALUE'\n",
    " \n",
    "X = boston_df[predictors_be]\n",
    "y = boston_df[outcome]\n",
    "train_X_be, valid_X_be, train_y_be, valid_y_be = \\\n",
    "          train_test_split(X, y, test_size=0.2, random_state=1)\n",
    "\n",
    "boston_be = LinearRegression()\n",
    "boston_be.fit(train_X_be, train_y_be)\n",
    "\n",
    "print('Regression Model for Training Set Using Backward Elimination')\n",
    "print()\n",
    "print('Intercept ', np.round(boston_be.intercept_, 2))\n",
    "print(pd.DataFrame({'Predictor': X.columns,\n",
    "            'Coefficient': np.round(boston_be.coef_, 2)}))"
   ]
  },
  {
   "cell_type": "code",
   "execution_count": 17,
   "id": "d71433fe",
   "metadata": {},
   "outputs": [
    {
     "name": "stdout",
     "output_type": "stream",
     "text": [
      "\n",
      "Predictions for Validation Set Using Backward Elimination\n",
      "     Actual  Predicted  Residual\n",
      "307    28.2      25.57      2.63\n",
      "343    23.9      22.70      1.20\n",
      "47     16.6      18.11     -1.51\n",
      "67     22.0      21.98      0.02\n",
      "362    20.8      19.19      1.61\n",
      "132    23.0      19.68      3.32\n",
      "292    27.9      25.52      2.38\n",
      "31     14.5      18.25     -3.75\n",
      "218    21.5      22.62     -1.12\n",
      "90     22.6      23.57     -0.97\n",
      "\n",
      "Accuracy Measures for Validation Set Using Backward Elimination\n",
      "\n",
      "Regression statistics\n",
      "\n",
      "                      Mean Error (ME) : 0.1904\n",
      "       Root Mean Squared Error (RMSE) : 3.8356\n",
      "            Mean Absolute Error (MAE) : 2.8137\n",
      "          Mean Percentage Error (MPE) : -4.5767\n",
      "Mean Absolute Percentage Error (MAPE) : 14.5939\n"
     ]
    }
   ],
   "source": [
    "#3a.\n",
    "boston_be_pred = boston_be.predict(valid_X_be)\n",
    "\n",
    "result = round(pd.DataFrame({'Actual': valid_y_be,'Predicted': boston_be_pred, \n",
    "                       'Residual': valid_y_be - boston_be_pred}), 2)\n",
    "print()\n",
    "print('Predictions for Validation Set Using Backward Elimination')\n",
    "print(result.head(10))\n",
    "\n",
    "print()\n",
    "print('Accuracy Measures for Validation Set Using Backward Elimination')\n",
    "regressionSummary(valid_y_be, boston_be_pred)"
   ]
  },
  {
   "cell_type": "code",
   "execution_count": 18,
   "id": "f71a4af1",
   "metadata": {},
   "outputs": [
    {
     "name": "stdout",
     "output_type": "stream",
     "text": [
      "Variables: CRIME, ZONE, INDUST, NIT_OXIDE, ROOMS, AGE, DISTANCE, RADIAL, TAX, ST_RATIO, LOW_STAT, CHAR_RIV_Y, C_MVALUE_Yes\n",
      "Start: score=2924.77, constant\n",
      "Step: score=2542.89, add C_MVALUE_Yes\n",
      "Step: score=2295.94, add LOW_STAT\n",
      "Step: score=2276.57, add CRIME\n",
      "Step: score=2265.27, add CHAR_RIV_Y\n",
      "Step: score=2255.86, add ST_RATIO\n",
      "Step: score=2247.88, add DISTANCE\n",
      "Step: score=2227.34, add NIT_OXIDE\n",
      "Step: score=2220.35, add RADIAL\n",
      "Step: score=2219.47, add TAX\n",
      "Step: score=2217.31, add INDUST\n",
      "Step: score=2216.85, add ROOMS\n",
      "Step: score=2216.85, add None\n",
      "\n",
      "Best Variables from Forward Selection Algorithm\n",
      "['C_MVALUE_Yes', 'LOW_STAT', 'CRIME', 'CHAR_RIV_Y', 'ST_RATIO', 'DISTANCE', 'NIT_OXIDE', 'RADIAL', 'TAX', 'INDUST', 'ROOMS']\n"
     ]
    }
   ],
   "source": [
    "#3b.\n",
    "def train_model(variables):\n",
    "    if len(variables) == 0:\n",
    "        return None\n",
    "    model = LinearRegression()\n",
    "    model.fit(train_X[variables], train_y)\n",
    "    return model\n",
    "\n",
    "def score_model(model, variables):\n",
    "    if len(variables) == 0:\n",
    "        return AIC_score(train_y, [train_y.mean()] * len(train_y), model, df=1)\n",
    "    return AIC_score(train_y, model.predict(train_X[variables]), model)\n",
    "\n",
    "best_model_fs, best_variables_fs = forward_selection(train_X.columns, \n",
    "                    train_model, score_model, verbose=True)\n",
    "\n",
    "print()\n",
    "print('Best Variables from Forward Selection Algorithm')\n",
    "print(best_variables_fs)"
   ]
  },
  {
   "cell_type": "code",
   "execution_count": 19,
   "id": "390ff89b",
   "metadata": {},
   "outputs": [
    {
     "name": "stdout",
     "output_type": "stream",
     "text": [
      "Regression Model for Training Set Using Forward Selection\n",
      "\n",
      "Intercept  46.55\n",
      "       Predictor  Coefficient\n",
      "0   C_MVALUE_Yes        11.52\n",
      "1       LOW_STAT        -0.48\n",
      "2          CRIME        -0.13\n",
      "3     CHAR_RIV_Y         2.14\n",
      "4       ST_RATIO        -0.59\n",
      "5       DISTANCE        -0.73\n",
      "6      NIT_OXIDE       -17.47\n",
      "7         RADIAL         0.20\n",
      "8            TAX        -0.01\n",
      "9         INDUST         0.11\n",
      "10         ROOMS         0.61\n"
     ]
    }
   ],
   "source": [
    "#3b.\n",
    "predictors_fs = ['C_MVALUE_Yes', 'LOW_STAT', 'CRIME', 'CHAR_RIV_Y', 'ST_RATIO', 'DISTANCE', 'NIT_OXIDE', 'RADIAL', 'TAX', 'INDUST', 'ROOMS']\n",
    "outcome = 'MVALUE'\n",
    " \n",
    "X = boston_df[predictors_fs]\n",
    "y = boston_df[outcome]\n",
    "train_X_fs, valid_X_fs, train_y_fs, valid_y_fs = \\\n",
    "          train_test_split(X, y, test_size=0.2, random_state=1)\n",
    "boston_fs = LinearRegression()\n",
    "boston_fs.fit(train_X_fs, train_y_fs)\n",
    "\n",
    "print('Regression Model for Training Set Using Forward Selection')\n",
    "print()\n",
    "print('Intercept ', np.round(boston_fs.intercept_, 2))\n",
    "print(pd.DataFrame({'Predictor': X.columns,\n",
    "            'Coefficient': np.round(boston_fs.coef_, 2)}))"
   ]
  },
  {
   "cell_type": "code",
   "execution_count": 20,
   "id": "f814497a",
   "metadata": {},
   "outputs": [
    {
     "name": "stdout",
     "output_type": "stream",
     "text": [
      "\n",
      "Predictions for Validation Set Using Forward Selection\n",
      "     Actual  Predicted  Residual\n",
      "307    28.2      25.57      2.63\n",
      "343    23.9      22.70      1.20\n",
      "47     16.6      18.11     -1.51\n",
      "67     22.0      21.98      0.02\n",
      "362    20.8      19.19      1.61\n",
      "132    23.0      19.68      3.32\n",
      "292    27.9      25.52      2.38\n",
      "31     14.5      18.25     -3.75\n",
      "218    21.5      22.62     -1.12\n",
      "90     22.6      23.57     -0.97\n",
      "\n",
      "Accuracy Measures for Validation Set Using Forward Selection\n",
      "\n",
      "Regression statistics\n",
      "\n",
      "                      Mean Error (ME) : 0.1904\n",
      "       Root Mean Squared Error (RMSE) : 3.8356\n",
      "            Mean Absolute Error (MAE) : 2.8137\n",
      "          Mean Percentage Error (MPE) : -4.5767\n",
      "Mean Absolute Percentage Error (MAPE) : 14.5939\n"
     ]
    }
   ],
   "source": [
    "#3b.\n",
    "boston_fs_pred = boston_fs.predict(valid_X_fs)\n",
    "\n",
    "result = round(pd.DataFrame({'Actual': valid_y_fs,'Predicted': boston_fs_pred, \n",
    "                       'Residual': valid_y_fs - boston_fs_pred}), 2)\n",
    "print()\n",
    "print('Predictions for Validation Set Using Forward Selection')\n",
    "print(result.head(10))\n",
    "print()\n",
    "print('Accuracy Measures for Validation Set Using Forward Selection')\n",
    "regressionSummary(valid_y_fs, boston_fs_pred)"
   ]
  },
  {
   "cell_type": "code",
   "execution_count": 21,
   "id": "87ea2717",
   "metadata": {},
   "outputs": [
    {
     "name": "stdout",
     "output_type": "stream",
     "text": [
      "Variables: CRIME, ZONE, INDUST, NIT_OXIDE, ROOMS, AGE, DISTANCE, RADIAL, TAX, ST_RATIO, LOW_STAT, CHAR_RIV_Y, C_MVALUE_Yes\n",
      "Start: score=2924.77, constant\n",
      "Step: score=2542.89, add C_MVALUE_Yes\n",
      "Step: score=2295.94, add LOW_STAT\n",
      "Step: score=2276.57, add CRIME\n",
      "Step: score=2265.27, add CHAR_RIV_Y\n",
      "Step: score=2255.86, add ST_RATIO\n",
      "Step: score=2247.88, add DISTANCE\n",
      "Step: score=2227.34, add NIT_OXIDE\n",
      "Step: score=2220.35, add RADIAL\n",
      "Step: score=2219.47, add TAX\n",
      "Step: score=2217.31, add INDUST\n",
      "Step: score=2216.85, add ROOMS\n",
      "Step: score=2216.85, unchanged None\n",
      "\n",
      "Best Variables from Stepwise Selection Algorithm\n",
      "['C_MVALUE_Yes', 'LOW_STAT', 'CRIME', 'CHAR_RIV_Y', 'ST_RATIO', 'DISTANCE', 'NIT_OXIDE', 'RADIAL', 'TAX', 'INDUST', 'ROOMS']\n"
     ]
    }
   ],
   "source": [
    "#3c.\n",
    "def train_model(variables):\n",
    "    if len(variables) == 0:\n",
    "        return None\n",
    "    model = LinearRegression()\n",
    "    model.fit(train_X[variables], train_y)\n",
    "    return model\n",
    "\n",
    "def score_model(model, variables):\n",
    "    if len(variables) == 0:\n",
    "        return AIC_score(train_y, [train_y.mean()] * len(train_y), model, df=1)\n",
    "    return AIC_score(train_y, model.predict(train_X[variables]), model)\n",
    "\n",
    "\n",
    "best_model_st, best_variables_st = stepwise_selection(train_X.columns, \n",
    "                    train_model, score_model, verbose=True)\n",
    "print()\n",
    "print('Best Variables from Stepwise Selection Algorithm')\n",
    "print(best_variables_st)"
   ]
  },
  {
   "cell_type": "code",
   "execution_count": 22,
   "id": "2f2953b8",
   "metadata": {},
   "outputs": [
    {
     "name": "stdout",
     "output_type": "stream",
     "text": [
      "Regression Model for Training Set Using Stewise Selection\n",
      "\n",
      "Intercept  46.55\n",
      "       Predictor  Coefficient\n",
      "0   C_MVALUE_Yes        11.52\n",
      "1       LOW_STAT        -0.48\n",
      "2          CRIME        -0.13\n",
      "3     CHAR_RIV_Y         2.14\n",
      "4       ST_RATIO        -0.59\n",
      "5       DISTANCE        -0.73\n",
      "6      NIT_OXIDE       -17.47\n",
      "7         RADIAL         0.20\n",
      "8            TAX        -0.01\n",
      "9         INDUST         0.11\n",
      "10         ROOMS         0.61\n"
     ]
    }
   ],
   "source": [
    "#3c.\n",
    "predictors_st = ['C_MVALUE_Yes', 'LOW_STAT', 'CRIME', 'CHAR_RIV_Y', 'ST_RATIO', 'DISTANCE', 'NIT_OXIDE', 'RADIAL', 'TAX', 'INDUST', 'ROOMS']\n",
    "outcome = 'MVALUE'\n",
    "\n",
    "X = boston_df[predictors_st]\n",
    "y = boston_df[outcome]\n",
    "train_X_st, valid_X_st, train_y_st, valid_y_st = \\\n",
    "          train_test_split(X, y, test_size=0.2, random_state=1)\n",
    "\n",
    "boston_st = LinearRegression()\n",
    "boston_st.fit(train_X_st, train_y_st)\n",
    "\n",
    "print('Regression Model for Training Set Using Stewise Selection')\n",
    "print()\n",
    "print('Intercept ', np.round(boston_st.intercept_, 2))\n",
    "print(pd.DataFrame({'Predictor': X.columns,\n",
    "            'Coefficient': np.round(boston_st.coef_, 2)}))"
   ]
  },
  {
   "cell_type": "code",
   "execution_count": 23,
   "id": "b1857815",
   "metadata": {},
   "outputs": [
    {
     "name": "stdout",
     "output_type": "stream",
     "text": [
      "\n",
      "Predictions for Validation Set Using Stepwise Selection\n",
      "     Actual  Predicted  Residual\n",
      "307    28.2      25.57      2.63\n",
      "343    23.9      22.70      1.20\n",
      "47     16.6      18.11     -1.51\n",
      "67     22.0      21.98      0.02\n",
      "362    20.8      19.19      1.61\n",
      "132    23.0      19.68      3.32\n",
      "292    27.9      25.52      2.38\n",
      "31     14.5      18.25     -3.75\n",
      "218    21.5      22.62     -1.12\n",
      "90     22.6      23.57     -0.97\n",
      "\n",
      "Accuracy Measures for Validation Set Using Stepwise Selection\n",
      "\n",
      "Regression statistics\n",
      "\n",
      "                      Mean Error (ME) : 0.1904\n",
      "       Root Mean Squared Error (RMSE) : 3.8356\n",
      "            Mean Absolute Error (MAE) : 2.8137\n",
      "          Mean Percentage Error (MPE) : -4.5767\n",
      "Mean Absolute Percentage Error (MAPE) : 14.5939\n"
     ]
    }
   ],
   "source": [
    "#3c.\n",
    "boston_st_pred = boston_st.predict(valid_X_st)\n",
    "\n",
    "\n",
    "result = round(pd.DataFrame({'Actual': valid_y_st,'Predicted': boston_st_pred, \n",
    "                       'Residual': valid_y_st - boston_st_pred}), 2)\n",
    "print()\n",
    "print('Predictions for Validation Set Using Stepwise Selection')\n",
    "print(result.head(10))\n",
    "\n",
    "print()\n",
    "print('Accuracy Measures for Validation Set Using Stepwise Selection')\n",
    "regressionSummary(valid_y_st, boston_st_pred)"
   ]
  },
  {
   "cell_type": "code",
   "execution_count": null,
   "id": "cc993245",
   "metadata": {},
   "outputs": [],
   "source": []
  }
 ],
 "metadata": {
  "kernelspec": {
   "display_name": "Python 3 (ipykernel)",
   "language": "python",
   "name": "python3"
  },
  "language_info": {
   "codemirror_mode": {
    "name": "ipython",
    "version": 3
   },
   "file_extension": ".py",
   "mimetype": "text/x-python",
   "name": "python",
   "nbconvert_exporter": "python",
   "pygments_lexer": "ipython3",
   "version": "3.9.12"
  }
 },
 "nbformat": 4,
 "nbformat_minor": 5
}
